{
 "cells": [
  {
   "cell_type": "code",
   "execution_count": 1,
   "metadata": {},
   "outputs": [],
   "source": [
    "import time \n",
    "import random"
   ]
  },
  {
   "cell_type": "code",
   "execution_count": 2,
   "metadata": {},
   "outputs": [],
   "source": [
    "# set seed\n",
    "\n",
    "random.seed(a = 100)"
   ]
  },
  {
   "cell_type": "code",
   "execution_count": 4,
   "metadata": {},
   "outputs": [],
   "source": [
    "# default list\n",
    "\n",
    "short_list = list(random.sample(range(1000000), 10))\n",
    "long_list = list(random.sample(range(1000000), 10000))"
   ]
  },
  {
   "cell_type": "code",
   "execution_count": 7,
   "metadata": {},
   "outputs": [],
   "source": [
    "def insert_sort(input_list):\n",
    "    new_list = input_list\n",
    "    \n",
    "    for i in range(len(new_list)):\n",
    "        j = i \n",
    "        while j > 0 and new_list[j-1] > new_list[j]:\n",
    "            \n",
    "            new_list[j-1], new_list[j] = new_list[j], new_list[j-1]\n",
    "            \n",
    "            j = j - 1\n",
    "            \n",
    "    return new_list"
   ]
  },
  {
   "cell_type": "code",
   "execution_count": 8,
   "metadata": {},
   "outputs": [
    {
     "name": "stdout",
     "output_type": "stream",
     "text": [
      "--- 9.608268737792969e-05 seconds ---\n",
      "[152745, 183236, 366725, 412125, 477025, 481850, 739784, 767514, 808225, 997948]\n"
     ]
    }
   ],
   "source": [
    "start_time = time.time()\n",
    "\n",
    "insert_sort(short_list)\n",
    "\n",
    "print(\"--- %s seconds ---\" % (time.time() - start_time))\n",
    "print(insert_sort(short_list))"
   ]
  },
  {
   "cell_type": "code",
   "execution_count": 9,
   "metadata": {},
   "outputs": [
    {
     "name": "stdout",
     "output_type": "stream",
     "text": [
      "--- 9.592393159866333 seconds ---\n"
     ]
    }
   ],
   "source": [
    "start_time = time.time()\n",
    "\n",
    "insert_sort(long_list)\n",
    "\n",
    "print(\"--- %s seconds ---\" % (time.time() - start_time))"
   ]
  },
  {
   "cell_type": "markdown",
   "metadata": {},
   "source": [
    "## Merging "
   ]
  },
  {
   "cell_type": "code",
   "execution_count": 11,
   "metadata": {},
   "outputs": [],
   "source": [
    "def merge (a, b): \n",
    "    # this checks if list is empty\n",
    "    if len(a) == 0 or len(b) == 0:\n",
    "        return a or b\n",
    "    \n",
    "    # this creates an empty list of result \n",
    "    \n",
    "    result = []\n",
    "    \n",
    "    #track two indexes -- maybe tracing first index 0\n",
    "    i, j = 0, 0 \n",
    "    \n",
    "    while (len(result) < len(a) + len(b)):\n",
    "        \n",
    "# If a's next element is lower append that element to our result.\n",
    "\n",
    "        if a[i] < b[j]: \n",
    "            result.append(a[i])\n",
    "            i += 1\n",
    "        \n",
    "        else: \n",
    "            result.append(b[j])\n",
    "\n",
    "            j += 1\n",
    "\n",
    "    # When one list is empty just append everything from the other list and stop.\n",
    "\n",
    "        if i == len(a) or j == len(b):\n",
    "            result.extend(a[i:] or b[j:])\n",
    "            break\n",
    "            \n",
    "    return result\n",
    "\n",
    "def merge_sort(lst):\n",
    "    if len(lst) < 2: \n",
    "        return lst\n",
    "\n",
    "    # Parameter list is being created. Here, if length of the list is greater than 2 its being returned\n",
    "    \n",
    "    \n",
    "    mid = int(len(lst) / 2) # I think this is dividing the list between 2 midpoints? \n",
    "    a = merge_sort(lst[:mid]) # First half of list\n",
    "    b = merge_sort(lst[mid:]) # Second half?\n",
    "    \n",
    "    return merge(a,b)\n",
    "            "
   ]
  },
  {
   "cell_type": "code",
   "execution_count": 12,
   "metadata": {},
   "outputs": [
    {
     "name": "stdout",
     "output_type": "stream",
     "text": [
      "--- 9.894371032714844e-05 seconds ---\n",
      "[152745, 183236, 366725, 412125, 477025, 481850, 739784, 767514, 808225, 997948]\n"
     ]
    }
   ],
   "source": [
    "start_time = time.time()\n",
    "\n",
    "merge_sort(short_list)\n",
    "print(\"--- %s seconds ---\" % (time.time() - start_time))\n",
    "print(insert_sort(short_list))"
   ]
  },
  {
   "cell_type": "code",
   "execution_count": 13,
   "metadata": {},
   "outputs": [
    {
     "name": "stdout",
     "output_type": "stream",
     "text": [
      "--- 0.07772278785705566 seconds ---\n"
     ]
    }
   ],
   "source": [
    "start_time = time.time()\n",
    "\n",
    "merge_sort(long_list)\n",
    "\n",
    "print(\"--- %s seconds ---\" % (time.time() - start_time))"
   ]
  },
  {
   "cell_type": "markdown",
   "metadata": {},
   "source": [
    "## Default Method"
   ]
  },
  {
   "cell_type": "code",
   "execution_count": 14,
   "metadata": {},
   "outputs": [
    {
     "name": "stdout",
     "output_type": "stream",
     "text": [
      "--- 0.0004241466522216797 seconds ---\n"
     ]
    }
   ],
   "source": [
    "start_time = time.time()\n",
    "\n",
    "sorted(long_list)\n",
    "\n",
    "print(\"--- %s seconds ---\" % (time.time() - start_time))"
   ]
  },
  {
   "cell_type": "markdown",
   "metadata": {},
   "source": [
    "## Drill \n",
    "\n",
    "Return to the sorting wiki page and pick an algorithm we haven't covered here (you probably want to pick one of the simpler ones, but it's up to you. Implement it in Python below and see how it compares in sorting our short and long lists. You should be able to easily find guides on how to implement any of the algorithms. Can you figure out why it runs faster or slower than our other sorting algorithms?\n",
    "\n",
    "Some good sorts to try are:\n",
    "\n",
    "- Heap Sort\n",
    "- Selection Sort\n",
    "- QuickSort\n",
    "\n",
    "Heapsort is a much more efficient version of selection sort. It also works by determining the largest (or smallest) element of the list, placing that at the end (or beginning) of the list, then continuing with the rest of the list, but accomplishes this task efficiently by using a data structure called a heap, a special type of binary tree.\n",
    "\n",
    "Formula: \n",
    "\n",
    "  - iLeftChild(i)  = 2*i + 1\n",
    "  - iRightChild(i) = 2*i + 2\n",
    "\n"
   ]
  },
  {
   "cell_type": "code",
   "execution_count": 22,
   "metadata": {},
   "outputs": [
    {
     "name": "stdout",
     "output_type": "stream",
     "text": [
      "Sorted array is: \n",
      "5\n",
      "6\n",
      "7\n",
      "11\n",
      "13\n",
      "12\n"
     ]
    }
   ],
   "source": [
    "def heapify(arr, n, i): \n",
    "    largest = i #largest need to be the root\n",
    "    #binary tree has two sides... left and right which needs to be lower than the root \n",
    "    l = 2* i + 1\n",
    "    r = 2* i + 2\n",
    "    \n",
    "    if l < n and arr[i] < arr[l]:\n",
    "        largest = l\n",
    "    \n",
    "    if r < n and arr[largest] < arr[r]:\n",
    "        largest = r \n",
    "        \n",
    "    if largest != i: \n",
    "        arr[i], arr[largest] = arr[largest], arr[i]\n",
    "        \n",
    "        heapify(arr, n, largest)\n",
    "    \n",
    "\n",
    "def heapSort (arr):\n",
    "    n = len(arr)\n",
    "    \n",
    "    for i in range(n, 0, -1):\n",
    "        heapify(arr, n, i)\n",
    "        \n",
    "    for i in range(n-1, 0, -1):\n",
    "        \n",
    "        arr[i], arr[0] = arr[0], arr[i]\n",
    "        \n",
    "        heapify(arr, i , 0)\n",
    "        \n",
    "arr = [12, 11, 13, 5, 6, 7]\n",
    "heapSort(arr)\n",
    "n = len(arr)\n",
    "print(\"Sorted array is: \")\n",
    "\n",
    "for i in range(n):\n",
    "    print(\"%d\" %arr[i])"
   ]
  },
  {
   "cell_type": "code",
   "execution_count": 23,
   "metadata": {},
   "outputs": [
    {
     "name": "stdout",
     "output_type": "stream",
     "text": [
      "--- 8.511543273925781e-05 seconds ---\n",
      "[152745, 183236, 366725, 412125, 477025, 481850, 739784, 767514, 808225, 997948]\n"
     ]
    }
   ],
   "source": [
    "start_time = time.time()\n",
    "\n",
    "heapSort(short_list)\n",
    "print(\"--- %s seconds ---\" % (time.time() - start_time))\n",
    "print(insert_sort(short_list))"
   ]
  },
  {
   "cell_type": "code",
   "execution_count": 24,
   "metadata": {},
   "outputs": [
    {
     "name": "stdout",
     "output_type": "stream",
     "text": [
      "--- 0.1039729118347168 seconds ---\n"
     ]
    }
   ],
   "source": [
    "start_time = time.time()\n",
    "\n",
    "heapSort(long_list)\n",
    "\n",
    "print(\"--- %s seconds ---\" % (time.time() - start_time))"
   ]
  },
  {
   "cell_type": "code",
   "execution_count": null,
   "metadata": {},
   "outputs": [],
   "source": []
  }
 ],
 "metadata": {
  "kernelspec": {
   "display_name": "Python 3",
   "language": "python",
   "name": "python3"
  },
  "language_info": {
   "codemirror_mode": {
    "name": "ipython",
    "version": 3
   },
   "file_extension": ".py",
   "mimetype": "text/x-python",
   "name": "python",
   "nbconvert_exporter": "python",
   "pygments_lexer": "ipython3",
   "version": "3.7.1"
  }
 },
 "nbformat": 4,
 "nbformat_minor": 2
}
